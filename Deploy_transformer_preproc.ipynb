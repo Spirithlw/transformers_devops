{
  "nbformat": 4,
  "nbformat_minor": 0,
  "metadata": {
    "colab": {
      "provenance": []
    },
    "kernelspec": {
      "name": "python3",
      "display_name": "Python 3"
    },
    "language_info": {
      "name": "python"
    },
    "widgets": {
      "application/vnd.jupyter.widget-state+json": {
        "8d9e00095a604fba82efc64b78010ee4": {
          "model_module": "@jupyter-widgets/controls",
          "model_name": "HBoxModel",
          "model_module_version": "1.5.0",
          "state": {
            "_dom_classes": [],
            "_model_module": "@jupyter-widgets/controls",
            "_model_module_version": "1.5.0",
            "_model_name": "HBoxModel",
            "_view_count": null,
            "_view_module": "@jupyter-widgets/controls",
            "_view_module_version": "1.5.0",
            "_view_name": "HBoxView",
            "box_style": "",
            "children": [
              "IPY_MODEL_b6b036eea72a453eb8d31671282c25df",
              "IPY_MODEL_63e10e2f724a46408b38549b76cd81f7",
              "IPY_MODEL_d96016edd7fb46978a577899cf53461e"
            ],
            "layout": "IPY_MODEL_15edd76165c848dfb788727333331f0e"
          }
        },
        "b6b036eea72a453eb8d31671282c25df": {
          "model_module": "@jupyter-widgets/controls",
          "model_name": "HTMLModel",
          "model_module_version": "1.5.0",
          "state": {
            "_dom_classes": [],
            "_model_module": "@jupyter-widgets/controls",
            "_model_module_version": "1.5.0",
            "_model_name": "HTMLModel",
            "_view_count": null,
            "_view_module": "@jupyter-widgets/controls",
            "_view_module_version": "1.5.0",
            "_view_name": "HTMLView",
            "description": "",
            "description_tooltip": null,
            "layout": "IPY_MODEL_b8f1f47e0ed24bbda5e8cf81bccaf5b2",
            "placeholder": "​",
            "style": "IPY_MODEL_77f994a14362428abe029a6e21abf335",
            "value": ""
          }
        },
        "63e10e2f724a46408b38549b76cd81f7": {
          "model_module": "@jupyter-widgets/controls",
          "model_name": "FloatProgressModel",
          "model_module_version": "1.5.0",
          "state": {
            "_dom_classes": [],
            "_model_module": "@jupyter-widgets/controls",
            "_model_module_version": "1.5.0",
            "_model_name": "FloatProgressModel",
            "_view_count": null,
            "_view_module": "@jupyter-widgets/controls",
            "_view_module_version": "1.5.0",
            "_view_name": "ProgressView",
            "bar_style": "success",
            "description": "",
            "description_tooltip": null,
            "layout": "IPY_MODEL_bd14792d32454904afd878a74571dfd9",
            "max": 1,
            "min": 0,
            "orientation": "horizontal",
            "style": "IPY_MODEL_3cc76a20988e48cab059a9987faaa0d4",
            "value": 1
          }
        },
        "d96016edd7fb46978a577899cf53461e": {
          "model_module": "@jupyter-widgets/controls",
          "model_name": "HTMLModel",
          "model_module_version": "1.5.0",
          "state": {
            "_dom_classes": [],
            "_model_module": "@jupyter-widgets/controls",
            "_model_module_version": "1.5.0",
            "_model_name": "HTMLModel",
            "_view_count": null,
            "_view_module": "@jupyter-widgets/controls",
            "_view_module_version": "1.5.0",
            "_view_name": "HTMLView",
            "description": "",
            "description_tooltip": null,
            "layout": "IPY_MODEL_bad93baf5453404ca40030688d9c53a0",
            "placeholder": "​",
            "style": "IPY_MODEL_d3cedfcb12964ceab582de546137e5c8",
            "value": " 20972/? [00:37&lt;00:00, 566.23it/s]"
          }
        },
        "15edd76165c848dfb788727333331f0e": {
          "model_module": "@jupyter-widgets/base",
          "model_name": "LayoutModel",
          "model_module_version": "1.2.0",
          "state": {
            "_model_module": "@jupyter-widgets/base",
            "_model_module_version": "1.2.0",
            "_model_name": "LayoutModel",
            "_view_count": null,
            "_view_module": "@jupyter-widgets/base",
            "_view_module_version": "1.2.0",
            "_view_name": "LayoutView",
            "align_content": null,
            "align_items": null,
            "align_self": null,
            "border": null,
            "bottom": null,
            "display": null,
            "flex": null,
            "flex_flow": null,
            "grid_area": null,
            "grid_auto_columns": null,
            "grid_auto_flow": null,
            "grid_auto_rows": null,
            "grid_column": null,
            "grid_gap": null,
            "grid_row": null,
            "grid_template_areas": null,
            "grid_template_columns": null,
            "grid_template_rows": null,
            "height": null,
            "justify_content": null,
            "justify_items": null,
            "left": null,
            "margin": null,
            "max_height": null,
            "max_width": null,
            "min_height": null,
            "min_width": null,
            "object_fit": null,
            "object_position": null,
            "order": null,
            "overflow": null,
            "overflow_x": null,
            "overflow_y": null,
            "padding": null,
            "right": null,
            "top": null,
            "visibility": null,
            "width": null
          }
        },
        "b8f1f47e0ed24bbda5e8cf81bccaf5b2": {
          "model_module": "@jupyter-widgets/base",
          "model_name": "LayoutModel",
          "model_module_version": "1.2.0",
          "state": {
            "_model_module": "@jupyter-widgets/base",
            "_model_module_version": "1.2.0",
            "_model_name": "LayoutModel",
            "_view_count": null,
            "_view_module": "@jupyter-widgets/base",
            "_view_module_version": "1.2.0",
            "_view_name": "LayoutView",
            "align_content": null,
            "align_items": null,
            "align_self": null,
            "border": null,
            "bottom": null,
            "display": null,
            "flex": null,
            "flex_flow": null,
            "grid_area": null,
            "grid_auto_columns": null,
            "grid_auto_flow": null,
            "grid_auto_rows": null,
            "grid_column": null,
            "grid_gap": null,
            "grid_row": null,
            "grid_template_areas": null,
            "grid_template_columns": null,
            "grid_template_rows": null,
            "height": null,
            "justify_content": null,
            "justify_items": null,
            "left": null,
            "margin": null,
            "max_height": null,
            "max_width": null,
            "min_height": null,
            "min_width": null,
            "object_fit": null,
            "object_position": null,
            "order": null,
            "overflow": null,
            "overflow_x": null,
            "overflow_y": null,
            "padding": null,
            "right": null,
            "top": null,
            "visibility": null,
            "width": null
          }
        },
        "77f994a14362428abe029a6e21abf335": {
          "model_module": "@jupyter-widgets/controls",
          "model_name": "DescriptionStyleModel",
          "model_module_version": "1.5.0",
          "state": {
            "_model_module": "@jupyter-widgets/controls",
            "_model_module_version": "1.5.0",
            "_model_name": "DescriptionStyleModel",
            "_view_count": null,
            "_view_module": "@jupyter-widgets/base",
            "_view_module_version": "1.2.0",
            "_view_name": "StyleView",
            "description_width": ""
          }
        },
        "bd14792d32454904afd878a74571dfd9": {
          "model_module": "@jupyter-widgets/base",
          "model_name": "LayoutModel",
          "model_module_version": "1.2.0",
          "state": {
            "_model_module": "@jupyter-widgets/base",
            "_model_module_version": "1.2.0",
            "_model_name": "LayoutModel",
            "_view_count": null,
            "_view_module": "@jupyter-widgets/base",
            "_view_module_version": "1.2.0",
            "_view_name": "LayoutView",
            "align_content": null,
            "align_items": null,
            "align_self": null,
            "border": null,
            "bottom": null,
            "display": null,
            "flex": null,
            "flex_flow": null,
            "grid_area": null,
            "grid_auto_columns": null,
            "grid_auto_flow": null,
            "grid_auto_rows": null,
            "grid_column": null,
            "grid_gap": null,
            "grid_row": null,
            "grid_template_areas": null,
            "grid_template_columns": null,
            "grid_template_rows": null,
            "height": null,
            "justify_content": null,
            "justify_items": null,
            "left": null,
            "margin": null,
            "max_height": null,
            "max_width": null,
            "min_height": null,
            "min_width": null,
            "object_fit": null,
            "object_position": null,
            "order": null,
            "overflow": null,
            "overflow_x": null,
            "overflow_y": null,
            "padding": null,
            "right": null,
            "top": null,
            "visibility": null,
            "width": "20px"
          }
        },
        "3cc76a20988e48cab059a9987faaa0d4": {
          "model_module": "@jupyter-widgets/controls",
          "model_name": "ProgressStyleModel",
          "model_module_version": "1.5.0",
          "state": {
            "_model_module": "@jupyter-widgets/controls",
            "_model_module_version": "1.5.0",
            "_model_name": "ProgressStyleModel",
            "_view_count": null,
            "_view_module": "@jupyter-widgets/base",
            "_view_module_version": "1.2.0",
            "_view_name": "StyleView",
            "bar_color": null,
            "description_width": ""
          }
        },
        "bad93baf5453404ca40030688d9c53a0": {
          "model_module": "@jupyter-widgets/base",
          "model_name": "LayoutModel",
          "model_module_version": "1.2.0",
          "state": {
            "_model_module": "@jupyter-widgets/base",
            "_model_module_version": "1.2.0",
            "_model_name": "LayoutModel",
            "_view_count": null,
            "_view_module": "@jupyter-widgets/base",
            "_view_module_version": "1.2.0",
            "_view_name": "LayoutView",
            "align_content": null,
            "align_items": null,
            "align_self": null,
            "border": null,
            "bottom": null,
            "display": null,
            "flex": null,
            "flex_flow": null,
            "grid_area": null,
            "grid_auto_columns": null,
            "grid_auto_flow": null,
            "grid_auto_rows": null,
            "grid_column": null,
            "grid_gap": null,
            "grid_row": null,
            "grid_template_areas": null,
            "grid_template_columns": null,
            "grid_template_rows": null,
            "height": null,
            "justify_content": null,
            "justify_items": null,
            "left": null,
            "margin": null,
            "max_height": null,
            "max_width": null,
            "min_height": null,
            "min_width": null,
            "object_fit": null,
            "object_position": null,
            "order": null,
            "overflow": null,
            "overflow_x": null,
            "overflow_y": null,
            "padding": null,
            "right": null,
            "top": null,
            "visibility": null,
            "width": null
          }
        },
        "d3cedfcb12964ceab582de546137e5c8": {
          "model_module": "@jupyter-widgets/controls",
          "model_name": "DescriptionStyleModel",
          "model_module_version": "1.5.0",
          "state": {
            "_model_module": "@jupyter-widgets/controls",
            "_model_module_version": "1.5.0",
            "_model_name": "DescriptionStyleModel",
            "_view_count": null,
            "_view_module": "@jupyter-widgets/base",
            "_view_module_version": "1.2.0",
            "_view_name": "StyleView",
            "description_width": ""
          }
        }
      }
    }
  },
  "cells": [
    {
      "cell_type": "code",
      "execution_count": null,
      "metadata": {
        "id": "5u1TwYw7qcsi"
      },
      "outputs": [],
      "source": [
        "import torch\n",
        "import torch.nn as nn\n",
        "\n",
        "import numpy as np\n",
        "import pandas as pd\n",
        "\n",
        "import json\n",
        "from tqdm.notebook import tqdm, trange\n",
        "from pprint import pprint\n",
        "import random\n",
        "from collections import Counter, OrderedDict, defaultdict\n",
        "from sklearn.model_selection import train_test_split\n",
        "import warnings\n",
        "warnings.simplefilter('ignore')"
      ]
    },
    {
      "cell_type": "code",
      "source": [
        "TARGET_DICT = {\n",
        "    'cs': 0,\n",
        "    'econ': 1,\n",
        "    'eess': 2,\n",
        "    'math': 3,\n",
        "    'astro-ph': 4,\n",
        "    'cond-mat': 4,\n",
        "    'gr-qc': 4,\n",
        "    'hep-ex': 4,\n",
        "    'hep-lat': 4,\n",
        "    'hep-ph': 4,\n",
        "    'hep-th': 4,\n",
        "    'math-ph': 4,\n",
        "    'nlin': 4,\n",
        "    'nucl-ex': 4,\n",
        "    'nucl-th': 4,\n",
        "    'physics': 4,\n",
        "    'quant-ph': 4,\n",
        "    'q-bio': 5,\n",
        "    'q-fin': 6,\n",
        "    'stat': 7,\n",
        "}\n",
        "\n",
        "def prefix2target(prefix: str) -> int:\n",
        "    return TARGET_DICT.get(prefix, -1)\n",
        "\n",
        "TARGET_IND2LABEL = {\n",
        "    0: 'Computer Science',\n",
        "    1: 'Economics',\n",
        "    2: 'Electrical Engineering and Systems Science',\n",
        "    3: 'Mathematics',\n",
        "    4: 'Physics',\n",
        "    5: 'Quantitative Biology',\n",
        "    6: 'Quantitative Finance',\n",
        "    7: 'Statistics',\n",
        "}"
      ],
      "metadata": {
        "id": "I6Vsct7t41ZK"
      },
      "execution_count": null,
      "outputs": []
    },
    {
      "cell_type": "code",
      "source": [
        "data_pd = pd.read_json(\"../arxivData.json\")\n",
        "data_pd.drop(['author', 'day', 'id', 'link', 'month', 'year'],\n",
        "             axis=1, inplace=True)"
      ],
      "metadata": {
        "id": "QBlsNoHnv0u4"
      },
      "execution_count": null,
      "outputs": []
    },
    {
      "cell_type": "code",
      "source": [
        "def tag_preproc(tag: str) -> int:\n",
        "    targets = []\n",
        "    for elem in json.loads(tag.replace(\"'\", '\"').replace(\"None\", \"null\")):\n",
        "        prefix = elem['term'].split('.')[0]\n",
        "        if (prefix in TARGET_DICT):\n",
        "            targets.append(prefix2target(prefix))\n",
        "    target_cnt = Counter(targets)\n",
        "    if (len(target_cnt) == 1):\n",
        "        return [targets[0]]\n",
        "    else:\n",
        "        first, second = target_cnt.most_common(2)\n",
        "        if (first[1] > second[1]):\n",
        "            return [first[0]]\n",
        "        else:\n",
        "            return [first[0], second[0]]"
      ],
      "metadata": {
        "id": "FPR6yMapnlrQ"
      },
      "execution_count": null,
      "outputs": []
    },
    {
      "cell_type": "code",
      "source": [
        "data_pd['target'] = data_pd['tag'].apply(tag_preproc)\n",
        "data_pd.drop([\"tag\"], axis=1, inplace=True)\n",
        "data_pd['title'] = data_pd['title'].apply(lambda x: x.replace(\"\\n\", \"\"))\n",
        "data_pd.rename(columns={'summary' : 'abstract'}, inplace=True)\n",
        "data_pd = data_pd[['title', 'abstract', 'target']]"
      ],
      "metadata": {
        "id": "TbV1kbumD_TA"
      },
      "execution_count": null,
      "outputs": []
    },
    {
      "cell_type": "code",
      "source": [
        "new_train = pd.read_csv(\"../train.csv\")"
      ],
      "metadata": {
        "id": "GtgUTyRQIT1X"
      },
      "execution_count": null,
      "outputs": []
    },
    {
      "cell_type": "code",
      "source": [
        "def new_data_target_preproc(row):\n",
        "    target = []\n",
        "    for key, val in TARGET_IND2LABEL.items():\n",
        "        if val in row:\n",
        "            if row[val]:\n",
        "                target.append(key)\n",
        "    if (len(target) > 2):\n",
        "        random.shuffle(target)\n",
        "        target = target[:2]\n",
        "    return target\n",
        "new_train['target'] = new_train.apply(new_data_target_preproc, axis=1)"
      ],
      "metadata": {
        "id": "ItsMmXEZkUyX"
      },
      "execution_count": null,
      "outputs": []
    },
    {
      "cell_type": "code",
      "source": [
        "new_train.drop([\"ID\", \"Computer Science\", \"Physics\", \"Mathematics\", \"Statistics\", \"Quantitative Biology\", \"Quantitative Finance\"], axis=1, inplace=True)"
      ],
      "metadata": {
        "id": "mf0nmeimqWLg"
      },
      "execution_count": null,
      "outputs": []
    },
    {
      "cell_type": "code",
      "source": [
        "new_train.rename(columns={\"TITLE\" : 'title', \"ABSTRACT\": 'abstract'}, inplace=True)"
      ],
      "metadata": {
        "id": "UtNly1pers5v"
      },
      "execution_count": null,
      "outputs": []
    },
    {
      "cell_type": "code",
      "source": [
        "old_titles = data_pd['title'].values\n",
        "new_titles = new_train['title'].values\n",
        "len(old_titles), len(new_titles), \\\n",
        "len(set(new_titles).intersection(set(old_titles)))"
      ],
      "metadata": {
        "id": "PiEveYINEOYm",
        "colab": {
          "base_uri": "https://localhost:8080/"
        },
        "outputId": "cefd3b11-758c-4c2a-f3d3-d641de3bd128"
      },
      "execution_count": null,
      "outputs": [
        {
          "output_type": "execute_result",
          "data": {
            "text/plain": [
              "(41000, 20972, 2007)"
            ]
          },
          "metadata": {},
          "execution_count": 14
        }
      ]
    },
    {
      "cell_type": "code",
      "source": [
        "inds_to_stay = []\n",
        "for ind, row in tqdm(enumerate(new_train.iloc)):\n",
        "    if (row['title'] not in old_titles):\n",
        "        inds_to_stay.append(ind)"
      ],
      "metadata": {
        "colab": {
          "base_uri": "https://localhost:8080/",
          "height": 49,
          "referenced_widgets": [
            "8d9e00095a604fba82efc64b78010ee4",
            "b6b036eea72a453eb8d31671282c25df",
            "63e10e2f724a46408b38549b76cd81f7",
            "d96016edd7fb46978a577899cf53461e",
            "15edd76165c848dfb788727333331f0e",
            "b8f1f47e0ed24bbda5e8cf81bccaf5b2",
            "77f994a14362428abe029a6e21abf335",
            "bd14792d32454904afd878a74571dfd9",
            "3cc76a20988e48cab059a9987faaa0d4",
            "bad93baf5453404ca40030688d9c53a0",
            "d3cedfcb12964ceab582de546137e5c8"
          ]
        },
        "id": "p9NGwrKAGBHI",
        "outputId": "81bed64e-f90d-4c7a-88ce-25dc5b9099ad"
      },
      "execution_count": null,
      "outputs": [
        {
          "output_type": "display_data",
          "data": {
            "text/plain": [
              "0it [00:00, ?it/s]"
            ],
            "application/vnd.jupyter.widget-view+json": {
              "version_major": 2,
              "version_minor": 0,
              "model_id": "8d9e00095a604fba82efc64b78010ee4"
            }
          },
          "metadata": {}
        }
      ]
    },
    {
      "cell_type": "code",
      "source": [
        "data = pd.concat([new_train.iloc[inds_to_stay], data_pd], axis=0, ignore_index=True)"
      ],
      "metadata": {
        "id": "178YG9D4Gjth"
      },
      "execution_count": null,
      "outputs": []
    },
    {
      "cell_type": "code",
      "source": [
        "multi_target_inds = data['target'].apply(len) > 1\n",
        "data_mult_0 = data.loc[multi_target_inds].copy()\n",
        "data_mult_1 = data.loc[multi_target_inds].copy()\n",
        "data.drop(np.where(np.array(multi_target_inds))[0], axis=0, inplace=True)"
      ],
      "metadata": {
        "id": "ZS-LddM_4b4M"
      },
      "execution_count": null,
      "outputs": []
    },
    {
      "cell_type": "code",
      "source": [
        "data_mult_0['target'] = data_mult_0['target'].apply(lambda x: x[0:1])\n",
        "data_mult_1['target'] = data_mult_1['target'].apply(lambda x: x[1:2])\n",
        "data = pd.concat([data_mult_0, data_mult_1, data], axis=0, ignore_index=True)"
      ],
      "metadata": {
        "id": "iL-NrwNd7AuR"
      },
      "execution_count": null,
      "outputs": []
    },
    {
      "cell_type": "code",
      "source": [
        "(data['target'].apply(len) > 1).values.sum()"
      ],
      "metadata": {
        "colab": {
          "base_uri": "https://localhost:8080/"
        },
        "id": "j-mSmXeY8Ha8",
        "outputId": "4c28be78-338f-40bc-e453-4d384644656f"
      },
      "execution_count": null,
      "outputs": [
        {
          "output_type": "execute_result",
          "data": {
            "text/plain": [
              "0"
            ]
          },
          "metadata": {},
          "execution_count": 19
        }
      ]
    },
    {
      "cell_type": "code",
      "source": [
        "data['target'] = data['target'].apply(lambda x: x[0])\n",
        "data['abstract'] = data['abstract'].apply(lambda x: x.replace(\"\\n\", \" \"))\n",
        "data['title'] = data['title'] + np.full((len(data), ), \".\")"
      ],
      "metadata": {
        "id": "GbH5BoY4DLAc"
      },
      "execution_count": null,
      "outputs": []
    },
    {
      "cell_type": "code",
      "source": [
        "DATA_LEN = data.shape[0] \n",
        "data_empty_title = data.sample(int(DATA_LEN * 0.1)).copy()\n",
        "data_empty_abstract = data.sample(int(DATA_LEN * 0.2)).copy()"
      ],
      "metadata": {
        "id": "59bhsf2EEtvz"
      },
      "execution_count": null,
      "outputs": []
    },
    {
      "cell_type": "code",
      "source": [
        "data_empty_title['title'] = np.full((len(data_empty_title), ), \"\")\n",
        "data_empty_abstract['abstract'] = np.full((len(data_empty_abstract), ), \"\")"
      ],
      "metadata": {
        "id": "GJi5ZL4XGAgx"
      },
      "execution_count": null,
      "outputs": []
    },
    {
      "cell_type": "code",
      "source": [
        "data = pd.concat([data, data_empty_title, data_empty_abstract], axis=0, ignore_index=True)\n",
        "data = data.sample(frac=1).reset_index(drop=True)"
      ],
      "metadata": {
        "id": "Seh4F1whGdkP"
      },
      "execution_count": null,
      "outputs": []
    },
    {
      "cell_type": "code",
      "source": [
        "data['text'] = data['title'] + data['abstract']\n",
        "data.drop(['title', 'abstract'], axis=1, inplace=True)\n",
        "data = data[['text', 'target']]"
      ],
      "metadata": {
        "id": "9sLqkYoxG9Jy"
      },
      "execution_count": null,
      "outputs": []
    },
    {
      "cell_type": "code",
      "source": [
        "data.to_csv('data_base.csv', index=False)"
      ],
      "metadata": {
        "id": "Z96jlfsFVgUE"
      },
      "execution_count": null,
      "outputs": []
    }
  ]
}